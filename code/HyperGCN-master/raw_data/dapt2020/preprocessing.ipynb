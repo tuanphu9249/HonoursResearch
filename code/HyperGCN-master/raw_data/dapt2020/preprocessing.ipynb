{
 "cells": [
  {
   "cell_type": "code",
   "execution_count": 1,
   "metadata": {},
   "outputs": [],
   "source": [
    "import pandas as pd\n",
    "import numpy as np\n",
    "import matplotlib as plt"
   ]
  },
  {
   "cell_type": "code",
   "execution_count": null,
   "metadata": {},
   "outputs": [],
   "source": [
    "def adj():\n",
    "    \n",
    "    return adj"
   ]
  },
  {
   "cell_type": "code",
   "execution_count": 13,
   "metadata": {},
   "outputs": [
    {
     "name": "stdout",
     "output_type": "stream",
     "text": [
      "Number of flows:  29254\n",
      "Number of features:  85\n"
     ]
    }
   ],
   "source": [
    "traffic = pd.read_csv('/home/tuanphu9249/HonoursResearch/Data/Datasets/DAPT2020/data_custom_reconnaissance.csv',\n",
    "                      float_precision='round_trip')\n",
    "\n",
    "print(\"Number of flows: \", traffic.shape[0])\n",
    "print(\"Number of features: \", traffic.shape[1])"
   ]
  },
  {
   "cell_type": "code",
   "execution_count": 15,
   "metadata": {},
   "outputs": [
    {
     "data": {
      "text/html": [
       "<div>\n",
       "<style scoped>\n",
       "    .dataframe tbody tr th:only-of-type {\n",
       "        vertical-align: middle;\n",
       "    }\n",
       "\n",
       "    .dataframe tbody tr th {\n",
       "        vertical-align: top;\n",
       "    }\n",
       "\n",
       "    .dataframe thead th {\n",
       "        text-align: right;\n",
       "    }\n",
       "</style>\n",
       "<table border=\"1\" class=\"dataframe\">\n",
       "  <thead>\n",
       "    <tr style=\"text-align: right;\">\n",
       "      <th></th>\n",
       "      <th>Flow ID</th>\n",
       "      <th>Src IP</th>\n",
       "      <th>Src Port</th>\n",
       "      <th>Dst IP</th>\n",
       "      <th>Dst Port</th>\n",
       "      <th>Protocol</th>\n",
       "      <th>Timestamp</th>\n",
       "      <th>Flow Duration</th>\n",
       "      <th>Tot Fwd Pkts</th>\n",
       "      <th>Tot Bwd Pkts</th>\n",
       "      <th>...</th>\n",
       "      <th>Active Mean</th>\n",
       "      <th>Active Std</th>\n",
       "      <th>Active Max</th>\n",
       "      <th>Active Min</th>\n",
       "      <th>Idle Mean</th>\n",
       "      <th>Idle Std</th>\n",
       "      <th>Idle Max</th>\n",
       "      <th>Idle Min</th>\n",
       "      <th>Activity</th>\n",
       "      <th>Label</th>\n",
       "    </tr>\n",
       "  </thead>\n",
       "  <tbody>\n",
       "    <tr>\n",
       "      <th>0</th>\n",
       "      <td>192.168.3.29-35.222.85.5-40250-80-6</td>\n",
       "      <td>192.168.3.29</td>\n",
       "      <td>40250</td>\n",
       "      <td>35.222.85.5</td>\n",
       "      <td>80</td>\n",
       "      <td>6</td>\n",
       "      <td>16/07/2019 11:57:20 AM</td>\n",
       "      <td>109576</td>\n",
       "      <td>3</td>\n",
       "      <td>5</td>\n",
       "      <td>...</td>\n",
       "      <td>0.0</td>\n",
       "      <td>0.000000e+00</td>\n",
       "      <td>0.0</td>\n",
       "      <td>0.0</td>\n",
       "      <td>0.000000e+00</td>\n",
       "      <td>0.000000e+00</td>\n",
       "      <td>0.0</td>\n",
       "      <td>0.0</td>\n",
       "      <td>Normal</td>\n",
       "      <td>BENIGN</td>\n",
       "    </tr>\n",
       "    <tr>\n",
       "      <th>1</th>\n",
       "      <td>0.87.248.248-3.0.0.0-0-0-0</td>\n",
       "      <td>0.87.248.248</td>\n",
       "      <td>0</td>\n",
       "      <td>3.0.0.0</td>\n",
       "      <td>0</td>\n",
       "      <td>0</td>\n",
       "      <td>16/07/2019 11:54:58 AM</td>\n",
       "      <td>119999725</td>\n",
       "      <td>2</td>\n",
       "      <td>1</td>\n",
       "      <td>...</td>\n",
       "      <td>0.0</td>\n",
       "      <td>0.000000e+00</td>\n",
       "      <td>0.0</td>\n",
       "      <td>0.0</td>\n",
       "      <td>5.999986e+07</td>\n",
       "      <td>5.020458e+01</td>\n",
       "      <td>59999898.0</td>\n",
       "      <td>59999827.0</td>\n",
       "      <td>Normal</td>\n",
       "      <td>BENIGN</td>\n",
       "    </tr>\n",
       "    <tr>\n",
       "      <th>2</th>\n",
       "      <td>8.0.6.4-8.6.0.1-0-0-0</td>\n",
       "      <td>8.6.0.1</td>\n",
       "      <td>0</td>\n",
       "      <td>8.0.6.4</td>\n",
       "      <td>0</td>\n",
       "      <td>0</td>\n",
       "      <td>16/07/2019 11:57:01 AM</td>\n",
       "      <td>119999082</td>\n",
       "      <td>244</td>\n",
       "      <td>1</td>\n",
       "      <td>...</td>\n",
       "      <td>0.0</td>\n",
       "      <td>0.000000e+00</td>\n",
       "      <td>0.0</td>\n",
       "      <td>0.0</td>\n",
       "      <td>0.000000e+00</td>\n",
       "      <td>0.000000e+00</td>\n",
       "      <td>0.0</td>\n",
       "      <td>0.0</td>\n",
       "      <td>Normal</td>\n",
       "      <td>BENIGN</td>\n",
       "    </tr>\n",
       "    <tr>\n",
       "      <th>3</th>\n",
       "      <td>255.255.255.255-0.0.0.0-67-68-17</td>\n",
       "      <td>0.0.0.0</td>\n",
       "      <td>68</td>\n",
       "      <td>255.255.255.255</td>\n",
       "      <td>67</td>\n",
       "      <td>17</td>\n",
       "      <td>16/07/2019 11:57:01 AM</td>\n",
       "      <td>119308004</td>\n",
       "      <td>90</td>\n",
       "      <td>1</td>\n",
       "      <td>...</td>\n",
       "      <td>0.0</td>\n",
       "      <td>0.000000e+00</td>\n",
       "      <td>0.0</td>\n",
       "      <td>0.0</td>\n",
       "      <td>0.000000e+00</td>\n",
       "      <td>0.000000e+00</td>\n",
       "      <td>0.0</td>\n",
       "      <td>0.0</td>\n",
       "      <td>Normal</td>\n",
       "      <td>BENIGN</td>\n",
       "    </tr>\n",
       "    <tr>\n",
       "      <th>4</th>\n",
       "      <td>192.168.3.10-239.2.11.71-53569-8662-17</td>\n",
       "      <td>192.168.3.10</td>\n",
       "      <td>53569</td>\n",
       "      <td>239.2.11.71</td>\n",
       "      <td>8662</td>\n",
       "      <td>17</td>\n",
       "      <td>16/07/2019 11:57:09 AM</td>\n",
       "      <td>114861346</td>\n",
       "      <td>31</td>\n",
       "      <td>1</td>\n",
       "      <td>...</td>\n",
       "      <td>2814192.6</td>\n",
       "      <td>2.523818e+06</td>\n",
       "      <td>5479718.0</td>\n",
       "      <td>64.0</td>\n",
       "      <td>1.439863e+07</td>\n",
       "      <td>3.619735e+06</td>\n",
       "      <td>20017321.0</td>\n",
       "      <td>8472883.0</td>\n",
       "      <td>Normal</td>\n",
       "      <td>BENIGN</td>\n",
       "    </tr>\n",
       "  </tbody>\n",
       "</table>\n",
       "<p>5 rows × 85 columns</p>\n",
       "</div>"
      ],
      "text/plain": [
       "                                  Flow ID        Src IP  Src Port  \\\n",
       "0     192.168.3.29-35.222.85.5-40250-80-6  192.168.3.29     40250   \n",
       "1              0.87.248.248-3.0.0.0-0-0-0  0.87.248.248         0   \n",
       "2                   8.0.6.4-8.6.0.1-0-0-0       8.6.0.1         0   \n",
       "3        255.255.255.255-0.0.0.0-67-68-17       0.0.0.0        68   \n",
       "4  192.168.3.10-239.2.11.71-53569-8662-17  192.168.3.10     53569   \n",
       "\n",
       "            Dst IP  Dst Port  Protocol               Timestamp  Flow Duration  \\\n",
       "0      35.222.85.5        80         6  16/07/2019 11:57:20 AM         109576   \n",
       "1          3.0.0.0         0         0  16/07/2019 11:54:58 AM      119999725   \n",
       "2          8.0.6.4         0         0  16/07/2019 11:57:01 AM      119999082   \n",
       "3  255.255.255.255        67        17  16/07/2019 11:57:01 AM      119308004   \n",
       "4      239.2.11.71      8662        17  16/07/2019 11:57:09 AM      114861346   \n",
       "\n",
       "   Tot Fwd Pkts  Tot Bwd Pkts  ...  Active Mean    Active Std  Active Max  \\\n",
       "0             3             5  ...          0.0  0.000000e+00         0.0   \n",
       "1             2             1  ...          0.0  0.000000e+00         0.0   \n",
       "2           244             1  ...          0.0  0.000000e+00         0.0   \n",
       "3            90             1  ...          0.0  0.000000e+00         0.0   \n",
       "4            31             1  ...    2814192.6  2.523818e+06   5479718.0   \n",
       "\n",
       "   Active Min     Idle Mean      Idle Std    Idle Max    Idle Min  Activity  \\\n",
       "0         0.0  0.000000e+00  0.000000e+00         0.0         0.0    Normal   \n",
       "1         0.0  5.999986e+07  5.020458e+01  59999898.0  59999827.0    Normal   \n",
       "2         0.0  0.000000e+00  0.000000e+00         0.0         0.0    Normal   \n",
       "3         0.0  0.000000e+00  0.000000e+00         0.0         0.0    Normal   \n",
       "4        64.0  1.439863e+07  3.619735e+06  20017321.0   8472883.0    Normal   \n",
       "\n",
       "    Label  \n",
       "0  BENIGN  \n",
       "1  BENIGN  \n",
       "2  BENIGN  \n",
       "3  BENIGN  \n",
       "4  BENIGN  \n",
       "\n",
       "[5 rows x 85 columns]"
      ]
     },
     "execution_count": 15,
     "metadata": {},
     "output_type": "execute_result"
    }
   ],
   "source": [
    "columns = ['Flow ID', 'Src IP', 'Src Port', 'Dst IP', 'Dst Port', 'Protocol', 'Timestamp', 'Flow Duration', 'Tot Fwd Pkts', 'Tot Bwd Pkts', 'TotLen Fwd Pkts', 'TotLen Bwd Pkts', 'Fwd Pkt Len Max', 'Fwd Pkt Len Min', 'Fwd Pkt Len Mean', 'Fwd Pkt Len Std', 'Bwd Pkt Len Max', 'Bwd Pkt Len Min', 'Bwd Pkt Len Mean', 'Bwd Pkt Len Std', 'Flow Byts/s', 'Flow Pkts/s', 'Flow IAT Mean', 'Flow IAT Std', 'Flow IAT Max', 'Flow IAT Min', 'Fwd IAT Tot', 'Fwd IAT Mean', 'Fwd IAT Std', 'Fwd IAT Max', 'Fwd IAT Min', 'Bwd IAT Tot', 'Bwd IAT Mean', 'Bwd IAT Std', 'Bwd IAT Max', 'Bwd IAT Min', 'Fwd PSH Flags', 'Bwd PSH Flags', 'Fwd URG Flags', 'Bwd URG Flags', 'Fwd Header Len', 'Bwd Header Len', 'Fwd Pkts/s', 'Bwd Pkts/s', 'Pkt Len Min', 'Pkt Len Max', 'Pkt Len Mean', 'Pkt Len Std', 'Pkt Len Var', 'FIN Flag Cnt', 'SYN Flag Cnt', 'RST Flag Cnt', 'PSH Flag Cnt', 'ACK Flag Cnt', 'URG Flag Cnt', 'CWE Flag Count', 'ECE Flag Cnt', 'Down/Up Ratio', 'Pkt Size Avg', 'Fwd Seg Size Avg', 'Bwd Seg Size Avg', 'Fwd Byts/b Avg', 'Fwd Pkts/b Avg', 'Fwd Blk Rate Avg', 'Bwd Byts/b Avg', 'Bwd Pkts/b Avg', 'Bwd Blk Rate Avg', 'Subflow Fwd Pkts', 'Subflow Fwd Byts', 'Subflow Bwd Pkts', 'Subflow Bwd Byts', 'Init Fwd Win Byts', 'Init Bwd Win Byts', 'Fwd Act Data Pkts', 'Fwd Seg Size Min', 'Active Mean', 'Active Std', 'Active Max', 'Active Min', 'Idle Mean', 'Idle Std', 'Idle Max', 'Idle Min', 'Activity', 'Label']\n",
    "\n",
    "traffic.columns = columns\n",
    "traffic.head()"
   ]
  },
  {
   "cell_type": "code",
   "execution_count": 17,
   "metadata": {},
   "outputs": [
    {
     "data": {
      "text/plain": [
       "array(['Normal', 'Account Discovery', 'Network Scan'], dtype=object)"
      ]
     },
     "execution_count": 17,
     "metadata": {},
     "output_type": "execute_result"
    }
   ],
   "source": [
    "traffic['Activity'].unique()"
   ]
  },
  {
   "cell_type": "code",
   "execution_count": 18,
   "metadata": {},
   "outputs": [
    {
     "data": {
      "text/plain": [
       "array(['BENIGN', 'Reconnaissance'], dtype=object)"
      ]
     },
     "execution_count": 18,
     "metadata": {},
     "output_type": "execute_result"
    }
   ],
   "source": [
    "traffic['Label'].unique()"
   ]
  },
  {
   "cell_type": "code",
   "execution_count": null,
   "metadata": {},
   "outputs": [],
   "source": []
  },
  {
   "cell_type": "code",
   "execution_count": null,
   "metadata": {},
   "outputs": [],
   "source": []
  },
  {
   "cell_type": "code",
   "execution_count": null,
   "metadata": {},
   "outputs": [],
   "source": []
  },
  {
   "cell_type": "code",
   "execution_count": null,
   "metadata": {},
   "outputs": [],
   "source": []
  },
  {
   "cell_type": "code",
   "execution_count": null,
   "metadata": {},
   "outputs": [],
   "source": []
  }
 ],
 "metadata": {
  "kernelspec": {
   "display_name": "Python 3",
   "language": "python",
   "name": "python3"
  },
  "language_info": {
   "codemirror_mode": {
    "name": "ipython",
    "version": 3
   },
   "file_extension": ".py",
   "mimetype": "text/x-python",
   "name": "python",
   "nbconvert_exporter": "python",
   "pygments_lexer": "ipython3",
   "version": "3.8.5"
  }
 },
 "nbformat": 4,
 "nbformat_minor": 4
}
